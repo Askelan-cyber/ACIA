{
 "cells": [
  {
   "cell_type": "code",
   "execution_count": 10,
   "metadata": {},
   "outputs": [],
   "source": [
    "import requests\n",
    "import json\n",
    "import os\n",
    "import pandas as pd\n",
    "\n",
    "# headers = {'Content-type': 'application/json'}\n",
    "# data = json.dumps({\"seriesid\": ['CUUR0000SA0','SUUR0000SA0'],\"startyear\":\"2011\", \"endyear\":\"2020\"})\n",
    "# p = requests.post('https://api.bls.gov/publicAPI/v2/timeseries/data/', data=data, headers=headers)\n",
    "# json_data = json.loads(p.text)\n",
    "# json_data\n",
    "# for series in json_data['Results']['series']:\n",
    "#     x=prettytable.PrettyTable([\"series id\",\"year\",\"period\",\"value\",\"footnotes\"])\n",
    "#     seriesId = series['seriesID']\n",
    "#     for item in series['data']:\n",
    "#         year = item['year']\n",
    "#         period = item['period']\n",
    "#         value = item['value']\n",
    "#         footnotes=\"\"\n",
    "#         for footnote in item['footnotes']:\n",
    "#             if footnote:\n",
    "#                 footnotes = footnotes + footnote['text'] + ','\n",
    "#         if 'M01' <= period <= 'M12':\n",
    "#             x.add_row([seriesId,year,period,value,footnotes[0:-1]])\n",
    "#     output = open(seriesId + '.txt','w')\n",
    "#     output.write (x.get_string())\n",
    "#     output.close()"
   ]
  },
  {
   "cell_type": "code",
   "execution_count": 11,
   "metadata": {},
   "outputs": [],
   "source": [
    "#return CPI data with start and end dates\n",
    "#takes two string args and returns JSON\n",
    "def get_JSON_CPI(start, end):\n",
    "    headers = {'Content-type': 'application/json','registrationKey':'21c16a98f9374dd8ba6ef4f37427d3d1'}\n",
    "    data = json.dumps({\"seriesid\": ['CUUR0000SA0','SUUR0000SA0'],\"startyear\":start, \"endyear\":end})\n",
    "    p = requests.post('https://api.bls.gov/publicAPI/v2/timeseries/data/', data=data, headers=headers)\n",
    "    return json.loads(p.text)\n",
    "\n",
    "#take the JSON CPI data and create a dataset\n",
    "def get_CPI_Dataset(json_data):\n",
    "    # Create a new empty DataFrame\n",
    "    asset_info_df = pd.DataFrame()\n",
    "    asset_info_df['symbol'] = pd.Series([asset.symbol for asset in assets])\n",
    "\n",
    "    # Display the first 10 asset tickers\n",
    "    display(asset_info_df.head(10))\n",
    "\n",
    "    for series in json_data['Results']['series']:\n",
    "        x=prettytable.PrettyTable([\"series id\",\"year\",\"period\",\"value\",\"footnotes\"])\n",
    "        seriesId = series['seriesID']\n",
    "        for item in series['data']:\n",
    "            year = item['year']\n",
    "            period = item['period']\n",
    "            value = item['value']\n",
    "            footnotes=\"\"\n",
    "            for footnote in item['footnotes']:\n",
    "                if footnote:\n",
    "                    footnotes = footnotes + footnote['text'] + ','\n",
    "            if 'M01' <= period <= 'M12':\n",
    "                x.add_row([seriesId,year,period,value,footnotes[0:-1]])\n",
    "        output = open(seriesId + '.txt','w')\n",
    "        output.write (x.get_string())\n",
    "        output.close()\n"
   ]
  },
  {
   "cell_type": "code",
   "execution_count": 12,
   "metadata": {},
   "outputs": [
    {
     "data": {
      "text/plain": [
       "'REQUEST_NOT_PROCESSED'"
      ]
     },
     "execution_count": 12,
     "metadata": {},
     "output_type": "execute_result"
    }
   ],
   "source": [
    "cpi_response = get_JSON_CPI(\"2011\", \"2020\")\n",
    "cpi_df = pd.DataFrame()\n",
    "cpi_response['status']\n",
    "# if cpi_response['status'] == 'REQUEST_SUCCEEDED':\n",
    "#     #call fx to populate dataframe\n",
    "#     cpi_response['status']\n",
    "# asset_info_df['symbol'] = pd.Series([asset.symbol for asset in assets])"
   ]
  },
  {
   "cell_type": "code",
   "execution_count": null,
   "metadata": {},
   "outputs": [],
   "source": [
    "count = 0\n",
    "# Retrieve all the transactions\n",
    "for transactions in cpi_response['Results']:\n",
    "#     print(json.dumps(transactions['data'][0], indent=4, sort_keys=True))\n",
    "    print(transactions[count])\n",
    "    count += 1\n",
    "#     # Populate the transactions DataFrame with the transactions data\n",
    "#     #datetime.strptime(date_string, \"%d %B, %Y\")\n",
    "#     new_row = {'date':transactions[\"date\"], 'name':transactions[\"merchant_name\"], 'amount':transactions[\"amount\"], 'category':transactions[\"category\"][0]}\n",
    "#     #append row to the dataframe\n",
    "#     transactionDF = transactionDF.append(new_row, ignore_index=True)\n",
    "# # Display sample data from the DataFrame    \n",
    "# transactionDF['date'][0]"
   ]
  },
  {
   "cell_type": "code",
   "execution_count": 9,
   "metadata": {},
   "outputs": [],
   "source": [
    "try:\n",
    "    # For Python 3.0 and later\n",
    "    from urllib.request import urlopen\n",
    "except ImportError:\n",
    "    # Fall back to Python 2's urllib2\n",
    "    from urllib2 import urlopen\n",
    "\n",
    "import json\n",
    "\n",
    "def get_jsonparsed_data(url):\n",
    "    \"\"\"\n",
    "    Receive the content of ``url``, parse it as JSON and return the object.\n",
    "\n",
    "    Parameters\n",
    "    ----------\n",
    "    url : str\n",
    "\n",
    "    Returns\n",
    "    -------\n",
    "    dict\n",
    "    \"\"\"\n",
    "    response = urlopen(url)\n",
    "    data = response.read().decode(\"utf-8\")\n",
    "    return json.loads(data)\n",
    "\n",
    "url = (\"https://financialmodelingprep.com/api/v3/historical-price-full/crypto/BTCUSD?apikey=b38974b4c6e6b07c4a2ce4878942dab1\")\n",
    "print(get_jsonparsed_data(url))"
   ]
  },
  {
   "cell_type": "code",
   "execution_count": null,
   "metadata": {},
   "outputs": [],
   "source": []
  }
 ],
 "metadata": {
  "kernelspec": {
   "display_name": "Python 3",
   "language": "python",
   "name": "python3"
  },
  "language_info": {
   "codemirror_mode": {
    "name": "ipython",
    "version": 3
   },
   "file_extension": ".py",
   "mimetype": "text/x-python",
   "name": "python",
   "nbconvert_exporter": "python",
   "pygments_lexer": "ipython3",
   "version": "3.7.7"
  }
 },
 "nbformat": 4,
 "nbformat_minor": 4
}
